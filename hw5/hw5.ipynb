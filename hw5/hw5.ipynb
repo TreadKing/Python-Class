{
 "nbformat": 4,
 "nbformat_minor": 2,
 "metadata": {
  "language_info": {
   "name": "python",
   "codemirror_mode": {
    "name": "ipython",
    "version": 3
   },
   "version": "3.7.4-final"
  },
  "orig_nbformat": 2,
  "file_extension": ".py",
  "mimetype": "text/x-python",
  "name": "python",
  "npconvert_exporter": "python",
  "pygments_lexer": "ipython3",
  "version": 3,
  "kernelspec": {
   "name": "python37464bitbaseconda15948ad715344d2b8d9605725bc90444",
   "display_name": "Python 3.7.4 64-bit ('base': conda)"
  }
 },
 "cells": [
  {
   "cell_type": "markdown",
   "metadata": {},
   "source": [
    "Devang patel    Homework 5"
   ]
  },
  {
   "cell_type": "code",
   "execution_count": 2,
   "metadata": {},
   "outputs": [],
   "source": [
    "#import needed libraries\n",
    "from tkinter import Tk, Entry, Button, Label, messagebox\n",
    "import datetime\n",
    "import random"
   ]
  },
  {
   "cell_type": "markdown",
   "metadata": {},
   "source": [
    "1) Redevelop the “input the date and output the day” problem by using object-oriented\n",
    "concept (i.e. develop a class that encapsulates the data and method), thus rendering the\n",
    "piece of code reusable.\n"
   ]
  },
  {
   "cell_type": "code",
   "execution_count": 3,
   "metadata": {},
   "outputs": [],
   "source": [
    "#make root\n",
    "root = Tk()\n",
    "root.title('date')\n",
    "week_days = ['Monday', 'Tuesday', ' Wednesday', 'Thursday', 'Friday', 'Saturday', 'Sunday']"
   ]
  },
  {
   "cell_type": "code",
   "execution_count": 4,
   "metadata": {},
   "outputs": [],
   "source": [
    "def click():\n",
    "    l = list(map(int, date_txt.get().split('/')))\n",
    "    day = datetime.date(l[2], l[1], l[0]).weekday()\n",
    "    messagebox.showinfo('date', date_txt.get() + ' was a ' + week_days[day])\n",
    "    \n",
    "\n",
    "\n",
    "instructions = Label(root, text=\"Enter date in the form dd/mm/yyyy:\")\n",
    "instructions.grid(column=0, row=0)\n",
    "date_txt = Entry(root, width=20)\n",
    "date_txt.grid(column=0, row=1)\n",
    "button_info = Button(root, text='Submit', command=click)\n",
    "button_info.grid(column=0, row=3)\n",
    ""
   ]
  },
  {
   "cell_type": "markdown",
   "metadata": {},
   "source": [
    "2) Write a Python GUI program to randomly output a name from the list of ~89 entries given\n",
    "below"
   ]
  },
  {
   "cell_type": "code",
   "execution_count": 6,
   "metadata": {},
   "outputs": [],
   "source": [
    "root2 = Tk()\n",
    "root2.title('winner')\n",
    "root2.geometry('100x100')\n",
    "List_of_entries = ['Sanbid Roy Chowdhury', 'The refuge Malik', 'Google India', 'DotDotCom', 'Jon Layman', 'Itz Omen',\n",
    "                   'Roberto Picco', 'Adigun olamide', 'Saurabh Parate', 'Exceptional Faruk', 'Avinash Upadhyaya',\n",
    "                   'Fabio F. de Aquino', 'Ganesh Hegde', 'Hardy Don', 'Trap Town NCS', 'NIRMAL SRINIVAS CHINTALA',\n",
    "                   'Weston', 'Gavin Hou', 'Bhanumathi A', 'Faoud Mohd ', 'rocket science', 'LucaVont',\n",
    "                   'Kristian Simko', 'LunarAtom', 'Code With Wasif', 'Shreyas shetty', 'Panagiotis V',\n",
    "                   'Dan Esquibel', 'TechiesSpammer69', 'John Dripper', 'Barbossa', 'Sahan Eakanayaka', 'Cassio Lacaz',\n",
    "                   'Ranga bharath', 'Kisalay Suman', 'Le Dung', 'Mildo', 'Ivan Yosifov',\n",
    "                   'Shreyas shetty', 'pranav Bhatki', 'Atharv Nuthi', 'Tibas Tiba', 'Yash Thakkar', 'Dario',\n",
    "                   'deranged llama', 'Tom Blackwood', 'Christian Dimayacyac', 'Shaun A', 'Tchosk', 'Ahsan Arain',\n",
    "                   'GRANDHI NAGESHWARAO', 'Baby Daily Life', 'PERFECT IGBADUMHE', 'Amad Ahmed', 'benage andy',\n",
    "                   'Gerald Minoza', 'Samuel Hafer', 'Augusto Sousa', 'Andreas Mls', 'Somali flame', 'GPSSerbia',\n",
    "                   'Hima Subedi', 'Ignatus Nana Amoah', 'Videos Promoter', 'Nabil Fantes', 'collins anele',\n",
    "                   'Utku Yucel', 'Robert Coffie', 'M Dandan', 'Hudaibia Syed', 'abdurrahman zakariya', 'sabin katwal',\n",
    "                   'Hardy Don', 'v sr', '10 bitangaje', 'Jon Bascos', 'Gaming Hub', 'Ace Hardy', 'Arsh Bains',\n",
    "                   'Hima Subedi', 'Samuel Hafer', 'Fake Account', 'Spider', 'Callum Telford', 'Nikola Franicevic',\n",
    "                   'David Blankinship', 'Unison', 'ramona Saintandre', 'Mohan hari krishna']\n",
    "\n",
    "\n",
    "def click():\n",
    "    messagebox.showinfo('The winner is:', 'The winner is:\\n' + random.choice\n",
    "(List_of_entries))\n",
    "      \n",
    "\n",
    "\n",
    "instructions = Label(root2, text='Win-O-Rama!')\n",
    "instructions.grid(column=0, row=1)\n",
    "button_info = Button(root2, text='Pick the winner', command=click)\n",
    "button_info.grid(column=0, row=5)\n",
    "\n",
    "root2.mainloop()"
   ]
  },
  {
   "cell_type": "code",
   "execution_count": null,
   "metadata": {},
   "outputs": [],
   "source": []
  }
 ]
}