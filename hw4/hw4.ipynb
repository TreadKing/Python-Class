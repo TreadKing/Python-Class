{
 "nbformat": 4,
 "nbformat_minor": 2,
 "metadata": {
  "language_info": {
   "name": "python",
   "codemirror_mode": {
    "name": "ipython",
    "version": 3
   },
   "version": "3.7.4-final"
  },
  "orig_nbformat": 2,
  "file_extension": ".py",
  "mimetype": "text/x-python",
  "name": "python",
  "npconvert_exporter": "python",
  "pygments_lexer": "ipython3",
  "version": 3,
  "kernelspec": {
   "name": "python37464bitbaseconda15948ad715344d2b8d9605725bc90444",
   "display_name": "Python 3.7.4 64-bit ('base': conda)"
  }
 },
 "cells": [
  {
   "cell_type": "markdown",
   "metadata": {},
   "source": [
    "Write a python GUI program to show a workingcalculator using tkintermodule. You can include as many widgets you want, design choice is up to you.The functions depictingthe main functionalities of a calculator like equal_to (=), add(+), Subtract(-), Multiply(*) and divide(/)should be included.(i.e. need to implement a GUIfor calculator but also it should have its basic functionsmentioned above working)"
   ]
  },
  {
   "cell_type": "code",
   "execution_count": 28,
   "metadata": {},
   "outputs": [
    {
     "output_type": "stream",
     "name": "stderr",
     "text": "Exception in Tkinter callback\nTraceback (most recent call last):\n  File \"C:\\ProgramData\\Anaconda3\\lib\\tkinter\\__init__.py\", line 1705, in __call__\n    return self.func(*args)\n  File \"<ipython-input-28-34252ec301eb>\", line 21, in <lambda>\n    button_9 = Button(root, text = '9', padx = 40, pady = 20, command = lambda: button_add(8))\nTypeError: 'Button' object is not callable\nException in Tkinter callback\nTraceback (most recent call last):\n  File \"C:\\ProgramData\\Anaconda3\\lib\\tkinter\\__init__.py\", line 1705, in __call__\n    return self.func(*args)\n  File \"<ipython-input-28-34252ec301eb>\", line 20, in <lambda>\n    button_8 = Button(root, text = '8', padx = 40, pady = 20, command = lambda: button_add(7))\nTypeError: 'Button' object is not callable\nException in Tkinter callback\nTraceback (most recent call last):\n  File \"C:\\ProgramData\\Anaconda3\\lib\\tkinter\\__init__.py\", line 1705, in __call__\n    return self.func(*args)\n  File \"<ipython-input-28-34252ec301eb>\", line 21, in <lambda>\n    button_9 = Button(root, text = '9', padx = 40, pady = 20, command = lambda: button_add(8))\nTypeError: 'Button' object is not callable\n"
    }
   ],
   "source": [
    "from tkinter import * \n",
    "root = Tk()\n",
    "root.title('Simple Calculator')\n",
    "\n",
    "e = Entry(root, width = 35, borderwidth = 5)\n",
    "e.grid(row = 0, column = 0, columnspan = 3, padx = 10, pady = 10)\n",
    "\n",
    "def button_add(number):\n",
    "    e.insert(0, number)\n",
    "\n",
    "#define buttons\n",
    "\n",
    "button_1 = Button(root, text = '1', padx = 40, pady = 20, command = lambda: button_add(1))\n",
    "button_2 = Button(root, text = '2', padx = 40, pady = 20, command = lambda: button_add(2))\n",
    "button_3 = Button(root, text = '3', padx = 40, pady = 20, command = lambda: button_add(3))\n",
    "button_4 = Button(root, text = '4', padx = 40, pady = 20, command = lambda: button_add(4))\n",
    "button_5 = Button(root, text = '5', padx = 40, pady = 20, command = lambda: button_add(4))\n",
    "button_6 = Button(root, text = '6', padx = 40, pady = 20, command = lambda: button_add(5))\n",
    "button_7 = Button(root, text = '7', padx = 40, pady = 20, command = lambda: button_add(6))\n",
    "button_8 = Button(root, text = '8', padx = 40, pady = 20, command = lambda: button_add(7))\n",
    "button_9 = Button(root, text = '9', padx = 40, pady = 20, command = lambda: button_add(8))\n",
    "button_0 = Button(root, text = '0', padx = 40, pady = 20, command = lambda: button_add(9))\n",
    "button_add = Button(root, text = '+', padx = 39, pady = 20, comman = lambda: button_add(0))\n",
    "button_eq = Button(root, text = '=', padx = 91, pady = 20, command = lambda: button_add())\n",
    "button_clear = Button(root, text = 'Clear', padx = 79, pady = 20, command = lambda: button_add())\n",
    "\n",
    "\n",
    "#arrange buttons\n",
    "button_1.grid(row = 3, column = 0)\n",
    "button_2.grid(row = 3, column = 1)\n",
    "button_3.grid(row = 3, column = 2)\n",
    "button_4.grid(row = 2, column = 0)\n",
    "button_5.grid(row = 2, column = 1)\n",
    "button_6.grid(row = 2, column = 2)\n",
    "button_7.grid(row = 1, column = 0)\n",
    "button_8.grid(row = 1, column = 1)\n",
    "button_9.grid(row = 1, column = 2)\n",
    "button_0.grid(row = 4, column = 0)\n",
    "button_add.grid(row = 5, column = 0)\n",
    "button_eq.grid(row = 5, column = 1, columnspan = 2)\n",
    "button_clear.grid(row = 4, column = 1, columnspan = 2)\n",
    "\n",
    "#button_add = Botton(root, text = '1', padx = 50, pady = 20, command = botton_add)\n",
    "\n",
    "\n",
    "\n",
    "\n",
    "root.mainloop()\n",
    ""
   ]
  },
  {
   "cell_type": "code",
   "execution_count": null,
   "metadata": {},
   "outputs": [],
   "source": []
  }
 ]
}