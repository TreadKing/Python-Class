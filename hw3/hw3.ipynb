{
 "nbformat": 4,
 "nbformat_minor": 2,
 "metadata": {
  "language_info": {
   "name": "python",
   "codemirror_mode": {
    "name": "ipython",
    "version": 2
   },
   "version": "3.7.4-final"
  },
  "orig_nbformat": 2,
  "file_extension": ".py",
  "mimetype": "text/x-python",
  "name": "python",
  "npconvert_exporter": "python",
  "pygments_lexer": "ipython2",
  "version": 2,
  "kernelspec": {
   "name": "python37464bitanaconda3conda68559e13be8f4174ab80484e8ce16916",
   "display_name": "Python 3.7.4 64-bit ('anaconda3': conda)"
  }
 },
 "cells": [
  {
   "cell_type": "markdown",
   "metadata": {},
   "source": [
    "Question 1:\n",
    "Write a Python program that willprint all unique values in a dictionary."
   ]
  },
  {
   "cell_type": "code",
   "execution_count": 4,
   "metadata": {},
   "outputs": [
    {
     "name": "stdout",
     "output_type": "stream",
     "text": "{'green', 'red', 'blue'}\n"
    }
   ],
   "source": [
    "dic = {\n",
    "    1 : 'red',\n",
    "    2 : 'blue',\n",
    "    3 : 'blue',\n",
    "    4 : 'green',\n",
    "    5 : 'red'\n",
    "}\n",
    "values = set(dic.values())\n",
    "print(values)"
   ]
  },
  {
   "cell_type": "markdown",
   "metadata": {},
   "source": [
    "Question 2:\n",
    "Write a Python program to print out a set containing all the alphabetsfrom alph_list_1 which are not present in alph_list_2"
   ]
  },
  {
   "cell_type": "code",
   "execution_count": 6,
   "metadata": {},
   "outputs": [
    {
     "name": "stdout",
     "output_type": "stream",
     "text": "{'a', 'b'}\n"
    }
   ],
   "source": [
    "alph_list_1 = {'a', 'b', 'c'}\n",
    "alph_list_2 = {'c', 'd'}\n",
    "print(alph_list_1.difference(alph_list_2))"
   ]
  },
  {
   "cell_type": "markdown",
   "metadata": {},
   "source": [
    "Question 3: \n",
    "Write a Python function to find a distinct pair of numbers whose product is odd from a sequence of integer values.Also draw a flowchart to showcase how the executionis going to take place (i.e. show flowchart representing the logic of the flow)Write a Python function to find a distinct pair of numbers whose product is odd from a sequence of integer values.Also draw a flowchart to showcase how the executionis going to take place (i.e. show flowchart representing the logic of the flow)"
   ]
  },
  {
   "cell_type": "code",
   "execution_count": 14,
   "metadata": {},
   "outputs": [
    {
     "name": "stdout",
     "output_type": "stream",
     "text": "True\n"
    }
   ],
   "source": [
    "def oddp(nums):\n",
    "    for i in range(len(nums)):\n",
    "        for j in range(len(nums)):\n",
    "            if(i != j):\n",
    "                product = nums[i] * nums[j]\n",
    "                if(product & 1):\n",
    "                    return True\n",
    "                    return False\n",
    "\n",
    "seq_of_nos = 2,3,4,5,6,8,\n",
    "print(oddp(seq_of_nos))"
   ]
  },
  {
   "cell_type": "markdown",
   "metadata": {},
   "source": [
    "Question 4: Write a Pythonprogram that will create random string using the vowel characters 'a', 'e', 'i', 'o', 'u'. Make sure that the characters are used exactly oncein the generated string"
   ]
  },
  {
   "cell_type": "code",
   "execution_count": 35,
   "metadata": {},
   "outputs": [
    {
     "name": "stdout",
     "output_type": "stream",
     "text": "ieauo\n"
    }
   ],
   "source": [
    "import random\n",
    "\n",
    "s = ['a','e','i','o','u']\n",
    "string = ''\n",
    "while(len(s) != 0):\n",
    "    num = random.randint(0,len(s)-1)\n",
    "    string += s[num]\n",
    "    s.remove(s[num])\n",
    "print(string)"
   ]
  },
  {
   "cell_type": "code",
   "execution_count": null,
   "metadata": {},
   "outputs": [],
   "source": []
  }
 ]
}