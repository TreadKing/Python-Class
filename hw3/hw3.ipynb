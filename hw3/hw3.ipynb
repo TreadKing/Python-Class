{
 "nbformat": 4,
 "nbformat_minor": 2,
 "metadata": {
  "language_info": {
   "name": "python",
   "codemirror_mode": {
    "name": "ipython",
    "version": 2
   },
   "version": "3.7.4-final"
  },
  "orig_nbformat": 2,
  "file_extension": ".py",
  "mimetype": "text/x-python",
  "name": "python",
  "npconvert_exporter": "python",
  "pygments_lexer": "ipython2",
  "version": 2,
  "kernelspec": {
   "name": "python37464bitanaconda3conda68559e13be8f4174ab80484e8ce16916",
   "display_name": "Python 3.7.4 64-bit ('anaconda3': conda)"
  }
 },
 "cells": [
  {
   "cell_type": "markdown",
   "metadata": {},
   "source": [
    "Question 1:\n",
    "Write a Python program that willprint all unique values in a dictionary."
   ]
  },
  {
   "cell_type": "code",
   "execution_count": 20,
   "metadata": {},
   "outputs": [
    {
     "name": "stdout",
     "output_type": "stream",
     "text": "{'blue', 'green', 'red'}\n"
    }
   ],
   "source": [
    "dic = {\n",
    "    1 : 'red',\n",
    "    2 : 'blue',\n",
    "    3 : 'blue',\n",
    "    4 : 'green',\n",
    "    5 : 'red'\n",
    "}\n",
    "values = set(dic.values())\n",
    "print(values)"
   ]
  },
  {
   "cell_type": "markdown",
   "metadata": {},
   "source": [
    "Question 2:\n",
    "Write a Python program to print out a set containing all the alphabetsfrom alph_list_1 which are not present in alph_list_2"
   ]
  },
  {
   "cell_type": "code",
   "execution_count": 21,
   "metadata": {},
   "outputs": [
    {
     "name": "stdout",
     "output_type": "stream",
     "text": "{'a', 'b'}\n"
    }
   ],
   "source": [
    "alph_list_1 = {'a', 'b', 'c'}\n",
    "alph_list_2 = {'c', 'd'}\n",
    "print(alph_list_1.difference(alph_list_2))"
   ]
  },
  {
   "cell_type": "markdown",
   "metadata": {},
   "source": [
    "Question 3: \n",
    "Write a Python function to find a distinct pair of numbers whose product is odd from a sequence of integer values.Also draw a flowchart to showcase how the executionis going to take place (i.e. show flowchart representing the logic of the flow)Write a Python function to find a distinct pair of numbers whose product is odd from a sequence of integer values.Also draw a flowchart to showcase how the executionis going to take place (i.e. show flowchart representing the logic of the flow)"
   ]
  },
  {
   "cell_type": "code",
   "execution_count": 22,
   "metadata": {},
   "outputs": [
    {
     "name": "stdout",
     "output_type": "stream",
     "text": "True\n"
    }
   ],
   "source": [
    "def oddp(nums):\n",
    "    for i in range(len(nums)):\n",
    "        for j in range(len(nums)):\n",
    "            if(i != j):\n",
    "                product = nums[i] * nums[j]\n",
    "                if(product & 1):\n",
    "                    return True\n",
    "                    return False\n",
    "\n",
    "seq_of_nos = 2,3,4,5,6,8,\n",
    "print(oddp(seq_of_nos))"
   ]
  },
  {
   "cell_type": "markdown",
   "metadata": {},
   "source": [
    "Question 4: Write a Pythonprogram that will create random string using the vowel characters 'a', 'e', 'i', 'o', 'u'. Make sure that the characters are used exactly oncein the generated string"
   ]
  },
  {
   "cell_type": "code",
   "execution_count": 23,
   "metadata": {},
   "outputs": [
    {
     "name": "stdout",
     "output_type": "stream",
     "text": "uaoei\n"
    }
   ],
   "source": [
    "import random\n",
    "\n",
    "s = ['a','e','i','o','u']\n",
    "string = ''\n",
    "while(len(s) != 0):\n",
    "    num = random.randint(0,len(s)-1)\n",
    "    string += s[num]\n",
    "    s.remove(s[num])\n",
    "print(string)"
   ]
  },
  {
   "cell_type": "markdown",
   "metadata": {},
   "source": [
    "Question 5: Data structure:Write a python program to create a singlylinked list that should be able to append new items to the list as well as iterate through the list(i.e.a function that will casuallygo through the items of the whole list)."
   ]
  },
  {
   "cell_type": "code",
   "execution_count": 28,
   "metadata": {},
   "outputs": [
    {
     "ename": "NameError",
     "evalue": "name 'printList' is not defined",
     "output_type": "error",
     "traceback": [
      "\u001b[0;31m---------------------------------------------------------------------------\u001b[0m",
      "\u001b[0;31mNameError\u001b[0m                                 Traceback (most recent call last)",
      "\u001b[0;32m<ipython-input-28-a32e8ee05179>\u001b[0m in \u001b[0;36m<module>\u001b[0;34m\u001b[0m\n\u001b[1;32m     31\u001b[0m    \u001b[0mllist\u001b[0m\u001b[0;34m.\u001b[0m\u001b[0mpush\u001b[0m\u001b[0;34m(\u001b[0m\u001b[0;36m12\u001b[0m\u001b[0;34m)\u001b[0m\u001b[0;34m\u001b[0m\u001b[0;34m\u001b[0m\u001b[0m\n\u001b[1;32m     32\u001b[0m \u001b[0;34m\u001b[0m\u001b[0m\n\u001b[0;32m---> 33\u001b[0;31m    \u001b[0mprintList\u001b[0m\u001b[0;34m(\u001b[0m\u001b[0;34m)\u001b[0m\u001b[0;34m\u001b[0m\u001b[0;34m\u001b[0m\u001b[0m\n\u001b[0m",
      "\u001b[0;31mNameError\u001b[0m: name 'printList' is not defined"
     ]
    }
   ],
   "source": [
    "#node class\n",
    "class Node:\n",
    "\n",
    "    #initialize the ndoe objcet\n",
    "    def __init__(self, data):\n",
    "        self.data = data\n",
    "        self.next = None\n",
    "\n",
    "class LinkedList: \n",
    "\n",
    "    #initialize the linked list object\n",
    "    def __init__(self):\n",
    "        self.head = None\n",
    "    \n",
    "    def push(self, new_data):\n",
    "        new_node = Node(new_data)\n",
    "        new_node.next = self.head\n",
    "        self.head = new_node\n",
    "\n",
    "    def printList(self):\n",
    "        temp - self.head\n",
    "        while(temp):\n",
    "            print(temp.data, end = ' ')\n",
    "            temp = temp.next\n",
    "\n",
    "if __name__=='__main__':\n",
    "\n",
    "    #empty list\n",
    "   llist = LinkedList()\n",
    "   llist.push(10)\n",
    "   llist.push(12)\n",
    "\n",
    "   printList()\n"
   ]
  },
  {
   "cell_type": "code",
   "execution_count": null,
   "metadata": {},
   "outputs": [],
   "source": []
  }
 ]
}