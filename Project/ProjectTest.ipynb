{
 "nbformat": 4,
 "nbformat_minor": 2,
 "metadata": {
  "language_info": {
   "name": "python",
   "codemirror_mode": {
    "name": "ipython",
    "version": 3
   },
   "version": "3.7.4-final"
  },
  "orig_nbformat": 2,
  "file_extension": ".py",
  "mimetype": "text/x-python",
  "name": "python",
  "npconvert_exporter": "python",
  "pygments_lexer": "ipython3",
  "version": 3,
  "kernelspec": {
   "name": "python37464bitbaseconda15948ad715344d2b8d9605725bc90444",
   "display_name": "Python 3.7.4 64-bit ('base': conda)"
  }
 },
 "cells": [
  {
   "cell_type": "code",
   "execution_count": 50,
   "metadata": {},
   "outputs": [],
   "source": [
    "import pandas as pd\n",
    "import numpy as np\n",
    "from sklearn import tree\n",
    "from sklearn import model_selection, preprocessing"
   ]
  },
  {
   "cell_type": "code",
   "execution_count": 51,
   "metadata": {},
   "outputs": [],
   "source": [
    "test_df = pd.read_csv('test.csv')\n",
    "train_df = pd.read_csv('train.csv')"
   ]
  },
  {
   "cell_type": "code",
   "execution_count": 52,
   "metadata": {},
   "outputs": [
    {
     "output_type": "stream",
     "name": "stdout",
     "text": "Gender Married Dependents     Education Self_Employed  ApplicantIncome  \\\n23    NaN     Yes          2  Not Graduate            No             3365   \n24   Male     Yes          1      Graduate           NaN             3717   \n25   Male     Yes          0      Graduate           Yes             9560   \n\n    CoapplicantIncome  LoanAmount  Loan_Amount_Term  Credit_History  \\\n23             1917.0       112.0             360.0             0.0   \n24             2925.0       151.0             360.0             NaN   \n25                0.0       191.0             360.0             1.0   \n\n   Property_Area Loan_Status  \n23         Rural           N  \n24     Semiurban           N  \n25     Semiurban           Y  \n"
    },
    {
     "output_type": "execute_result",
     "data": {
      "text/plain": "<bound method NDFrame.head of      Gender Married Dependents     Education Self_Employed  ApplicantIncome  \\\n0      Male      No          0      Graduate            No             5849   \n1      Male     Yes          1      Graduate            No             4583   \n2      Male     Yes          0      Graduate           Yes             3000   \n3      Male     Yes          0  Not Graduate            No             2583   \n4      Male      No          0      Graduate            No             6000   \n..      ...     ...        ...           ...           ...              ...   \n609  Female      No          0      Graduate            No             2900   \n610    Male     Yes         3+      Graduate            No             4106   \n611    Male     Yes          1      Graduate            No             8072   \n612    Male     Yes          2      Graduate            No             7583   \n613  Female      No          0      Graduate           Yes             4583   \n\n     CoapplicantIncome  LoanAmount  Loan_Amount_Term  Credit_History  \\\n0                  0.0         NaN             360.0             1.0   \n1               1508.0       128.0             360.0             1.0   \n2                  0.0        66.0             360.0             1.0   \n3               2358.0       120.0             360.0             1.0   \n4                  0.0       141.0             360.0             1.0   \n..                 ...         ...               ...             ...   \n609                0.0        71.0             360.0             1.0   \n610                0.0        40.0             180.0             1.0   \n611              240.0       253.0             360.0             1.0   \n612                0.0       187.0             360.0             1.0   \n613                0.0       133.0             360.0             0.0   \n\n    Property_Area Loan_Status  \n0           Urban           Y  \n1           Rural           N  \n2           Urban           Y  \n3           Urban           Y  \n4           Urban           Y  \n..            ...         ...  \n609         Rural           Y  \n610         Rural           Y  \n611         Urban           Y  \n612         Urban           Y  \n613     Semiurban           N  \n\n[614 rows x 12 columns]>"
     },
     "metadata": {},
     "execution_count": 52
    }
   ],
   "source": [
    "train_df = train_df.drop(columns = 'Loan_ID')\n",
    "print(train_df.loc[[23, 24, 25]])\n",
    "train_df.head"
   ]
  },
  {
   "cell_type": "code",
   "execution_count": 53,
   "metadata": {},
   "outputs": [
    {
     "output_type": "stream",
     "name": "stdout",
     "text": "13\nMale\n   Gender Married Dependents     Education Self_Employed  ApplicantIncome  \\\n23   Male     Yes          2  Not Graduate            No             3365   \n24   Male     Yes          1      Graduate           NaN             3717   \n25   Male     Yes          0      Graduate           Yes             9560   \n\n    CoapplicantIncome  LoanAmount  Loan_Amount_Term  Credit_History  \\\n23             1917.0       112.0             360.0             0.0   \n24             2925.0       151.0             360.0             NaN   \n25                0.0       191.0             360.0             1.0   \n\n   Property_Area Loan_Status  \n23         Rural           N  \n24     Semiurban           N  \n25     Semiurban           Y  \n0\n"
    }
   ],
   "source": [
    "#replcae Nan values mode of Gender feature\n",
    "print(train_df['Gender'].isna().sum())\n",
    "inplace = train_df['Gender'].mode()[0]\n",
    "print(inplace)\n",
    "train_df['Gender'].fillna(inplace, inplace=True)\n",
    "print(train_df.loc[[23, 24, 25]])\n",
    "print(train_df['Gender'].isna().sum())"
   ]
  },
  {
   "cell_type": "code",
   "execution_count": 54,
   "metadata": {},
   "outputs": [
    {
     "output_type": "stream",
     "name": "stdout",
     "text": "Gender Married Dependents Education Self_Employed  ApplicantIncome  \\\n7   Male     Yes          3  Graduate            No             3036   \n8   Male     Yes          2  Graduate            No             4006   \n\n   CoapplicantIncome  LoanAmount  Loan_Amount_Term  Credit_History  \\\n7             2504.0       158.0             360.0             0.0   \n8             1526.0       168.0             360.0             1.0   \n\n  Property_Area Loan_Status  \n7     Semiurban           N  \n8         Urban           Y  \n    Gender Married Dependents Education Self_Employed  ApplicantIncome  \\\n104   Male     NaN        NaN  Graduate            No             3816   \n105   Male     Yes          1  Graduate            No             3052   \n106   Male     Yes          2  Graduate            No            11417   \n\n     CoapplicantIncome  LoanAmount  Loan_Amount_Term  Credit_History  \\\n104              754.0       160.0             360.0             1.0   \n105             1030.0       100.0             360.0             1.0   \n106             1126.0       225.0             360.0             1.0   \n\n    Property_Area Loan_Status  \n104         Urban           Y  \n105         Urban           Y  \n106         Urban           Y  \n\n    Gender Married Dependents Education Self_Employed  ApplicantIncome  \\\n104   Male     NaN          0  Graduate            No             3816   \n105   Male     Yes          1  Graduate            No             3052   \n106   Male     Yes          2  Graduate            No            11417   \n\n     CoapplicantIncome  LoanAmount  Loan_Amount_Term  Credit_History  \\\n104              754.0       160.0             360.0             1.0   \n105             1030.0       100.0             360.0             1.0   \n106             1126.0       225.0             360.0             1.0   \n\n    Property_Area Loan_Status  \n104         Urban           Y  \n105         Urban           Y  \n106         Urban           Y  \n"
    }
   ],
   "source": [
    "#replace '3+' with 3 in Dependents featrue\n",
    "train_df['Dependents'] = train_df['Dependents'].replace('3+', 3)\n",
    "print(train_df.loc[[7,8]])\n",
    "print(train_df.loc[[104, 105, 106]])\n",
    "print()\n",
    "#replace Nan values with mode of Dependents feature\n",
    "train_df['Dependents'].fillna(train_df['Dependents'].mode()[0], inplace = True)\n",
    "\n",
    "print(train_df.loc[[104, 105, 106]])\n"
   ]
  },
  {
   "cell_type": "code",
   "execution_count": null,
   "metadata": {},
   "outputs": [],
   "source": []
  }
 ]
}